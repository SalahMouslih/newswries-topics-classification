{
 "cells": [
  {
   "cell_type": "code",
   "execution_count": 2,
   "metadata": {
    "scrolled": true
   },
   "outputs": [],
   "source": [
    "from keras.datasets import reuters"
   ]
  },
  {
   "cell_type": "code",
   "execution_count": 3,
   "metadata": {},
   "outputs": [],
   "source": [
    "(train_data, train_labels), (test_data, test_labels) = reuters.load_data(\n",
    "num_words=10000)"
   ]
  },
  {
   "cell_type": "code",
   "execution_count": 4,
   "metadata": {},
   "outputs": [
    {
     "data": {
      "text/plain": [
       "8982"
      ]
     },
     "execution_count": 4,
     "metadata": {},
     "output_type": "execute_result"
    }
   ],
   "source": [
    " len(train_data)"
   ]
  },
  {
   "cell_type": "code",
   "execution_count": 5,
   "metadata": {},
   "outputs": [
    {
     "data": {
      "text/plain": [
       "2246"
      ]
     },
     "execution_count": 5,
     "metadata": {},
     "output_type": "execute_result"
    }
   ],
   "source": [
    "len(test_data)"
   ]
  },
  {
   "cell_type": "markdown",
   "metadata": {},
   "source": [
    "Each example is a list of integers (word indices):"
   ]
  },
  {
   "cell_type": "code",
   "execution_count": 6,
   "metadata": {},
   "outputs": [
    {
     "data": {
      "text/plain": [
       "[1,\n",
       " 245,\n",
       " 273,\n",
       " 207,\n",
       " 156,\n",
       " 53,\n",
       " 74,\n",
       " 160,\n",
       " 26,\n",
       " 14,\n",
       " 46,\n",
       " 296,\n",
       " 26,\n",
       " 39,\n",
       " 74,\n",
       " 2979,\n",
       " 3554,\n",
       " 14,\n",
       " 46,\n",
       " 4689,\n",
       " 4329,\n",
       " 86,\n",
       " 61,\n",
       " 3499,\n",
       " 4795,\n",
       " 14,\n",
       " 61,\n",
       " 451,\n",
       " 4329,\n",
       " 17,\n",
       " 12]"
      ]
     },
     "execution_count": 6,
     "metadata": {},
     "output_type": "execute_result"
    }
   ],
   "source": [
    " train_data[10]"
   ]
  },
  {
   "cell_type": "code",
   "execution_count": 7,
   "metadata": {},
   "outputs": [],
   "source": [
    "import numpy as np"
   ]
  },
  {
   "cell_type": "markdown",
   "metadata": {},
   "source": [
    "### Encoding the data"
   ]
  },
  {
   "cell_type": "code",
   "execution_count": 9,
   "metadata": {},
   "outputs": [],
   "source": [
    "def vectorize_sequences(sequences, dimension=10000):\n",
    "    results = np.zeros((len(sequences), dimension))\n",
    "    for i, sequence in enumerate(sequences):\n",
    "        results[i, sequence] = 1.\n",
    "    return results\n",
    "\n",
    "x_train = vectorize_sequences(train_data)\n",
    "x_test = vectorize_sequences(test_data)"
   ]
  },
  {
   "cell_type": "code",
   "execution_count": 10,
   "metadata": {},
   "outputs": [],
   "source": [
    "def to_one_hot(labels, dimension=46):\n",
    "    results = np.zeros((len(labels), dimension))\n",
    "    for i, label in enumerate(labels):\n",
    "        results[i, label] = 1.\n",
    "    return results\n",
    "\n",
    "one_hot_train_labels = to_one_hot(train_labels)\n",
    "one_hot_test_labels = to_one_hot(test_labels)"
   ]
  },
  {
   "cell_type": "markdown",
   "metadata": {},
   "source": [
    "the network will output a probability distribution over the 46\n",
    "different output classes—for every input sample, the network will produce a 46-\n",
    "dimensional output vector, where output[i] is the probability that the sample\n",
    "belongs to class i. The 46 scores will sum to 1."
   ]
  },
  {
   "cell_type": "code",
   "execution_count": 11,
   "metadata": {},
   "outputs": [],
   "source": [
    "from keras import models\n",
    "from keras import layers\n",
    "\n",
    "model = models.Sequential()\n",
    "model.add(layers.Dense(64, activation='relu', input_shape=(10000,)))\n",
    "model.add(layers.Dense(64, activation='relu'))\n",
    "model.add(layers.Dense(46, activation='softmax'))"
   ]
  },
  {
   "cell_type": "markdown",
   "metadata": {},
   "source": [
    "The best loss function to use in this case is categorical_crossentropy. It measures\n",
    "the distance between two probability distributions: here, between the probability distribution output by the network and the true distribution of the labels."
   ]
  },
  {
   "cell_type": "code",
   "execution_count": 12,
   "metadata": {},
   "outputs": [],
   "source": [
    "model.compile(optimizer='rmsprop',\n",
    "    loss='categorical_crossentropy',\n",
    "    metrics=['accuracy'])"
   ]
  },
  {
   "cell_type": "markdown",
   "metadata": {},
   "source": [
    "Let’s set apart 1,000 samples in the training data to use as a validation set"
   ]
  },
  {
   "cell_type": "code",
   "execution_count": 13,
   "metadata": {},
   "outputs": [],
   "source": [
    "x_val = x_train[:1000]\n",
    "partial_x_train = x_train[1000:]\n",
    "\n",
    "y_val = one_hot_train_labels[:1000]\n",
    "partial_y_train = one_hot_train_labels[1000:]"
   ]
  },
  {
   "cell_type": "code",
   "execution_count": 14,
   "metadata": {},
   "outputs": [
    {
     "name": "stdout",
     "output_type": "stream",
     "text": [
      "Epoch 1/20\n",
      "16/16 [==============================] - 1s 32ms/step - loss: 2.7635 - accuracy: 0.4618 - val_loss: 1.8164 - val_accuracy: 0.6520\n",
      "Epoch 2/20\n",
      "16/16 [==============================] - 0s 24ms/step - loss: 1.4779 - accuracy: 0.7093 - val_loss: 1.3440 - val_accuracy: 0.7180\n",
      "Epoch 3/20\n",
      "16/16 [==============================] - 0s 26ms/step - loss: 1.0892 - accuracy: 0.7699 - val_loss: 1.1786 - val_accuracy: 0.7390\n",
      "Epoch 4/20\n",
      "16/16 [==============================] - 0s 24ms/step - loss: 0.8529 - accuracy: 0.8239 - val_loss: 1.0670 - val_accuracy: 0.7800\n",
      "Epoch 5/20\n",
      "16/16 [==============================] - 0s 23ms/step - loss: 0.6787 - accuracy: 0.8636 - val_loss: 0.9908 - val_accuracy: 0.8020\n",
      "Epoch 6/20\n",
      "16/16 [==============================] - 0s 27ms/step - loss: 0.5432 - accuracy: 0.8896 - val_loss: 0.9549 - val_accuracy: 0.8050\n",
      "Epoch 7/20\n",
      "16/16 [==============================] - 0s 26ms/step - loss: 0.4365 - accuracy: 0.9126 - val_loss: 0.9256 - val_accuracy: 0.8170\n",
      "Epoch 8/20\n",
      "16/16 [==============================] - 0s 23ms/step - loss: 0.3533 - accuracy: 0.9268 - val_loss: 0.9227 - val_accuracy: 0.8110\n",
      "Epoch 9/20\n",
      "16/16 [==============================] - 0s 22ms/step - loss: 0.2965 - accuracy: 0.9361 - val_loss: 0.9415 - val_accuracy: 0.8140\n",
      "Epoch 10/20\n",
      "16/16 [==============================] - 0s 24ms/step - loss: 0.2496 - accuracy: 0.9440 - val_loss: 0.9277 - val_accuracy: 0.8170\n",
      "Epoch 11/20\n",
      "16/16 [==============================] - 0s 23ms/step - loss: 0.2142 - accuracy: 0.9489 - val_loss: 0.9368 - val_accuracy: 0.8170\n",
      "Epoch 12/20\n",
      "16/16 [==============================] - 0s 28ms/step - loss: 0.1888 - accuracy: 0.9506 - val_loss: 0.9653 - val_accuracy: 0.8150\n",
      "Epoch 13/20\n",
      "16/16 [==============================] - 0s 25ms/step - loss: 0.1687 - accuracy: 0.9533 - val_loss: 0.9742 - val_accuracy: 0.8160\n",
      "Epoch 14/20\n",
      "16/16 [==============================] - 0s 23ms/step - loss: 0.1560 - accuracy: 0.9551 - val_loss: 0.9759 - val_accuracy: 0.8140\n",
      "Epoch 15/20\n",
      "16/16 [==============================] - 0s 25ms/step - loss: 0.1429 - accuracy: 0.9534 - val_loss: 1.0503 - val_accuracy: 0.7990\n",
      "Epoch 16/20\n",
      "16/16 [==============================] - 0s 26ms/step - loss: 0.1337 - accuracy: 0.9580 - val_loss: 1.0436 - val_accuracy: 0.8010\n",
      "Epoch 17/20\n",
      "16/16 [==============================] - 0s 27ms/step - loss: 0.1227 - accuracy: 0.9585 - val_loss: 1.0787 - val_accuracy: 0.7960\n",
      "Epoch 18/20\n",
      "16/16 [==============================] - 0s 24ms/step - loss: 0.1261 - accuracy: 0.9569 - val_loss: 1.1107 - val_accuracy: 0.7940\n",
      "Epoch 19/20\n",
      "16/16 [==============================] - 0s 22ms/step - loss: 0.1148 - accuracy: 0.9568 - val_loss: 1.0447 - val_accuracy: 0.8110\n",
      "Epoch 20/20\n",
      "16/16 [==============================] - 0s 23ms/step - loss: 0.1140 - accuracy: 0.9585 - val_loss: 1.1641 - val_accuracy: 0.7910\n"
     ]
    }
   ],
   "source": [
    "history = model.fit(partial_x_train,\n",
    "    partial_y_train,\n",
    "    epochs=20,\n",
    "    batch_size=512,\n",
    "    validation_data=(x_val, y_val))"
   ]
  },
  {
   "cell_type": "code",
   "execution_count": 18,
   "metadata": {},
   "outputs": [
    {
     "data": {
      "image/png": "[encoded data removed]",
      "text/plain": [
       "<Figure size 432x288 with 1 Axes>"
      ]
     },
     "metadata": {
      "needs_background": "light"
     },
     "output_type": "display_data"
    }
   ],
   "source": [
    "import matplotlib.pyplot as plt\n",
    "\n",
    "loss = history.history['loss']\n",
    "val_loss = history.history['val_loss']\n",
    "\n",
    "epochs = range(1, len(loss) + 1)\n",
    "\n",
    "plt.plot(epochs, loss, 'ro', label='Training loss')\n",
    "plt.plot(epochs, val_loss, 'g', label='Validation loss')\n",
    "\n",
    "plt.title('Training and validation loss')\n",
    "plt.xlabel('Epochs')\n",
    "plt.ylabel('Loss')\n",
    "plt.legend()\n",
    "\n",
    "plt.show()"
   ]
  },
  {
   "cell_type": "markdown",
   "metadata": {},
   "source": [
    "The network begins to overfit after nine epochs. Let’s train a new network from\n",
    "scratch for nine epochs and then evaluate it on the test set."
   ]
  },
  {
   "cell_type": "code",
   "execution_count": 19,
   "metadata": {},
   "outputs": [
    {
     "name": "stdout",
     "output_type": "stream",
     "text": [
      "Epoch 1/9\n",
      "16/16 [==============================] - 1s 36ms/step - loss: 2.6587 - accuracy: 0.5168 - val_loss: 1.7397 - val_accuracy: 0.6330\n",
      "Epoch 2/9\n",
      "16/16 [==============================] - 0s 23ms/step - loss: 1.4225 - accuracy: 0.6997 - val_loss: 1.3320 - val_accuracy: 0.7110\n",
      "Epoch 3/9\n",
      "16/16 [==============================] - 0s 24ms/step - loss: 1.0601 - accuracy: 0.7725 - val_loss: 1.1559 - val_accuracy: 0.7530\n",
      "Epoch 4/9\n",
      "16/16 [==============================] - 0s 24ms/step - loss: 0.8416 - accuracy: 0.8201 - val_loss: 1.0720 - val_accuracy: 0.7730\n",
      "Epoch 5/9\n",
      "16/16 [==============================] - 0s 24ms/step - loss: 0.6746 - accuracy: 0.8577 - val_loss: 1.0543 - val_accuracy: 0.7680\n",
      "Epoch 6/9\n",
      "16/16 [==============================] - 0s 25ms/step - loss: 0.5376 - accuracy: 0.8861 - val_loss: 0.9541 - val_accuracy: 0.8060\n",
      "Epoch 7/9\n",
      "16/16 [==============================] - 0s 25ms/step - loss: 0.4341 - accuracy: 0.9107 - val_loss: 0.9490 - val_accuracy: 0.8060\n",
      "Epoch 8/9\n",
      "16/16 [==============================] - 0s 24ms/step - loss: 0.3547 - accuracy: 0.9263 - val_loss: 0.9230 - val_accuracy: 0.8080\n",
      "Epoch 9/9\n",
      "16/16 [==============================] - 0s 24ms/step - loss: 0.2912 - accuracy: 0.9386 - val_loss: 0.9352 - val_accuracy: 0.8190\n"
     ]
    },
    {
     "data": {
      "text/plain": [
       "<keras.callbacks.History at 0x1125f2940>"
      ]
     },
     "execution_count": 19,
     "metadata": {},
     "output_type": "execute_result"
    }
   ],
   "source": [
    "model = models.Sequential()\n",
    "\n",
    "model.add(layers.Dense(64, activation='relu', input_shape=(10000,)))\n",
    "model.add(layers.Dense(64, activation='relu'))\n",
    "model.add(layers.Dense(46, activation='softmax'))\n",
    "\n",
    "model.compile(optimizer='rmsprop',\n",
    "    loss='categorical_crossentropy',\n",
    "    metrics=['accuracy'])\n",
    "\n",
    "model.fit(partial_x_train,\n",
    "    partial_y_train,\n",
    "    epochs=9,\n",
    "    batch_size=512,\n",
    "    validation_data=(x_val, y_val))"
   ]
  },
  {
   "cell_type": "code",
   "execution_count": 20,
   "metadata": {},
   "outputs": [
    {
     "name": "stdout",
     "output_type": "stream",
     "text": [
      "71/71 [==============================] - 0s 2ms/step - loss: 1.0071 - accuracy: 0.7845\n"
     ]
    }
   ],
   "source": [
    "results = model.evaluate(x_test, one_hot_test_labels)"
   ]
  },
  {
   "cell_type": "code",
   "execution_count": 21,
   "metadata": {},
   "outputs": [],
   "source": [
    "predictions = model.predict(x_test)"
   ]
  },
  {
   "cell_type": "markdown",
   "metadata": {},
   "source": [
    "another\n",
    "way to encode the labels would be to cast them as\n",
    "an integer tensor"
   ]
  },
  {
   "cell_type": "code",
   "execution_count": 22,
   "metadata": {},
   "outputs": [],
   "source": [
    "y_train = np.array(train_labels)\n",
    "y_test = np.array(test_labels)"
   ]
  },
  {
   "cell_type": "markdown",
   "metadata": {},
   "source": [
    "this approach would change the choice of the loss function. The categorical_crossentropy, expects the labels to follow\n",
    "a categorical encoding. With integer labels, we should use sparse_categorical_\n",
    "crossentropy:"
   ]
  },
  {
   "cell_type": "code",
   "execution_count": 23,
   "metadata": {},
   "outputs": [],
   "source": [
    "model.compile(optimizer='rmsprop',\n",
    "    loss='sparse_categorical_crossentropy',\n",
    "    metrics=['acc'])"
   ]
  },
  {
   "cell_type": "markdown",
   "metadata": {},
   "source": [
    "A model with an information bottleneck"
   ]
  },
  {
   "cell_type": "code",
   "execution_count": 24,
   "metadata": {},
   "outputs": [
    {
     "name": "stdout",
     "output_type": "stream",
     "text": [
      "Epoch 1/20\n",
      "63/63 [==============================] - 1s 15ms/step - loss: 2.8877 - accuracy: 0.3467 - val_loss: 2.3198 - val_accuracy: 0.3680\n",
      "Epoch 2/20\n",
      "63/63 [==============================] - 1s 11ms/step - loss: 2.0324 - accuracy: 0.3886 - val_loss: 1.8429 - val_accuracy: 0.4040\n",
      "Epoch 3/20\n",
      "63/63 [==============================] - 1s 11ms/step - loss: 1.6277 - accuracy: 0.5779 - val_loss: 1.6025 - val_accuracy: 0.6010\n",
      "Epoch 4/20\n",
      "63/63 [==============================] - 1s 12ms/step - loss: 1.4308 - accuracy: 0.6198 - val_loss: 1.5293 - val_accuracy: 0.6020\n",
      "Epoch 5/20\n",
      "63/63 [==============================] - 1s 13ms/step - loss: 1.3102 - accuracy: 0.6336 - val_loss: 1.4874 - val_accuracy: 0.6190\n",
      "Epoch 6/20\n",
      "63/63 [==============================] - 1s 11ms/step - loss: 1.2136 - accuracy: 0.6584 - val_loss: 1.4683 - val_accuracy: 0.6190\n",
      "Epoch 7/20\n",
      "63/63 [==============================] - 1s 10ms/step - loss: 1.1371 - accuracy: 0.6850 - val_loss: 1.4600 - val_accuracy: 0.6370\n",
      "Epoch 8/20\n",
      "63/63 [==============================] - 1s 11ms/step - loss: 1.0712 - accuracy: 0.7022 - val_loss: 1.5081 - val_accuracy: 0.6420\n",
      "Epoch 9/20\n",
      "63/63 [==============================] - 1s 10ms/step - loss: 1.0126 - accuracy: 0.7176 - val_loss: 1.5137 - val_accuracy: 0.6480\n",
      "Epoch 10/20\n",
      "63/63 [==============================] - 1s 13ms/step - loss: 0.9604 - accuracy: 0.7293 - val_loss: 1.5721 - val_accuracy: 0.6520\n",
      "Epoch 11/20\n",
      "63/63 [==============================] - 1s 13ms/step - loss: 0.9145 - accuracy: 0.7409 - val_loss: 1.5851 - val_accuracy: 0.6590\n",
      "Epoch 12/20\n",
      "63/63 [==============================] - 1s 12ms/step - loss: 0.8765 - accuracy: 0.7543 - val_loss: 1.5884 - val_accuracy: 0.6620\n",
      "Epoch 13/20\n",
      "63/63 [==============================] - 1s 13ms/step - loss: 0.8404 - accuracy: 0.7667 - val_loss: 1.6788 - val_accuracy: 0.6620\n",
      "Epoch 14/20\n",
      "63/63 [==============================] - 1s 12ms/step - loss: 0.8086 - accuracy: 0.7750 - val_loss: 1.7136 - val_accuracy: 0.6680\n",
      "Epoch 15/20\n",
      "63/63 [==============================] - 1s 11ms/step - loss: 0.7799 - accuracy: 0.7839 - val_loss: 1.7845 - val_accuracy: 0.6660\n",
      "Epoch 16/20\n",
      "63/63 [==============================] - 1s 11ms/step - loss: 0.7538 - accuracy: 0.7905 - val_loss: 1.8282 - val_accuracy: 0.6650\n",
      "Epoch 17/20\n",
      "63/63 [==============================] - 1s 12ms/step - loss: 0.7323 - accuracy: 0.7923 - val_loss: 1.8750 - val_accuracy: 0.6660\n",
      "Epoch 18/20\n",
      "63/63 [==============================] - 1s 13ms/step - loss: 0.7133 - accuracy: 0.7957 - val_loss: 1.9123 - val_accuracy: 0.6600\n",
      "Epoch 19/20\n",
      "63/63 [==============================] - 1s 11ms/step - loss: 0.6973 - accuracy: 0.7963 - val_loss: 1.9691 - val_accuracy: 0.6590\n",
      "Epoch 20/20\n",
      "63/63 [==============================] - 1s 11ms/step - loss: 0.6818 - accuracy: 0.8001 - val_loss: 2.0799 - val_accuracy: 0.6610\n"
     ]
    },
    {
     "data": {
      "text/plain": [
       "<keras.callbacks.History at 0xb5d151f98>"
      ]
     },
     "execution_count": 24,
     "metadata": {},
     "output_type": "execute_result"
    }
   ],
   "source": [
    "model = models.Sequential()\n",
    "model.add(layers.Dense(64, activation='relu', input_shape=(10000,)))\n",
    "model.add(layers.Dense(4, activation='relu'))\n",
    "model.add(layers.Dense(46, activation='softmax'))\n",
    "\n",
    "model.compile(optimizer='rmsprop',\n",
    "    loss='categorical_crossentropy',\n",
    "    metrics=['accuracy'])\n",
    "\n",
    "model.fit(partial_x_train,\n",
    "    partial_y_train,\n",
    "    epochs=20,\n",
    "    batch_size=128,\n",
    "    validation_data=(x_val, y_val))"
   ]
  },
  {
   "cell_type": "markdown",
   "metadata": {},
   "source": [
    "This drop\n",
    "is mostly due to the fact that we’re trying to compress a lot of information (enough\n",
    "information to recover the separation hyperplanes of 46 classes) into an intermediate\n",
    "space that is too low-dimensional. One solution is to add larger layers"
   ]
  },
  {
   "cell_type": "code",
   "execution_count": 28,
   "metadata": {},
   "outputs": [
    {
     "name": "stdout",
     "output_type": "stream",
     "text": [
      "Epoch 1/20\n",
      "63/63 [==============================] - 1s 14ms/step - loss: 1.7093 - accuracy: 0.6424 - val_loss: 1.2015 - val_accuracy: 0.7380\n",
      "Epoch 2/20\n",
      "63/63 [==============================] - 1s 11ms/step - loss: 0.9187 - accuracy: 0.7985 - val_loss: 1.0399 - val_accuracy: 0.7760\n",
      "Epoch 3/20\n",
      "63/63 [==============================] - 1s 12ms/step - loss: 0.5987 - accuracy: 0.8707 - val_loss: 0.9052 - val_accuracy: 0.8100\n",
      "Epoch 4/20\n",
      "63/63 [==============================] - 1s 11ms/step - loss: 0.3978 - accuracy: 0.9098 - val_loss: 0.8788 - val_accuracy: 0.8130\n",
      "Epoch 5/20\n",
      "63/63 [==============================] - 1s 11ms/step - loss: 0.2860 - accuracy: 0.9347 - val_loss: 1.0712 - val_accuracy: 0.7760\n",
      "Epoch 6/20\n",
      "63/63 [==============================] - 1s 12ms/step - loss: 0.2282 - accuracy: 0.9437 - val_loss: 0.9264 - val_accuracy: 0.8270\n",
      "Epoch 7/20\n",
      "63/63 [==============================] - 1s 11ms/step - loss: 0.1882 - accuracy: 0.9505 - val_loss: 0.9449 - val_accuracy: 0.8220\n",
      "Epoch 8/20\n",
      "63/63 [==============================] - 1s 12ms/step - loss: 0.1703 - accuracy: 0.9525 - val_loss: 1.0221 - val_accuracy: 0.8030\n",
      "Epoch 9/20\n",
      "63/63 [==============================] - 1s 11ms/step - loss: 0.1553 - accuracy: 0.9540 - val_loss: 1.0296 - val_accuracy: 0.8150\n",
      "Epoch 10/20\n",
      "63/63 [==============================] - 1s 11ms/step - loss: 0.1420 - accuracy: 0.9557 - val_loss: 1.0879 - val_accuracy: 0.8040\n",
      "Epoch 11/20\n",
      "63/63 [==============================] - 1s 11ms/step - loss: 0.1368 - accuracy: 0.9549 - val_loss: 1.0451 - val_accuracy: 0.8090\n",
      "Epoch 12/20\n",
      "63/63 [==============================] - 1s 11ms/step - loss: 0.1306 - accuracy: 0.9553 - val_loss: 1.1336 - val_accuracy: 0.8000\n",
      "Epoch 13/20\n",
      "63/63 [==============================] - 1s 11ms/step - loss: 0.1244 - accuracy: 0.9546 - val_loss: 1.1037 - val_accuracy: 0.8040\n",
      "Epoch 14/20\n",
      "63/63 [==============================] - 1s 11ms/step - loss: 0.1199 - accuracy: 0.9564 - val_loss: 1.1041 - val_accuracy: 0.8020\n",
      "Epoch 15/20\n",
      "63/63 [==============================] - 1s 11ms/step - loss: 0.1135 - accuracy: 0.9546 - val_loss: 1.1962 - val_accuracy: 0.7960\n",
      "Epoch 16/20\n",
      "63/63 [==============================] - 1s 11ms/step - loss: 0.1110 - accuracy: 0.9554 - val_loss: 1.2213 - val_accuracy: 0.7920\n",
      "Epoch 17/20\n",
      "63/63 [==============================] - 1s 11ms/step - loss: 0.1061 - accuracy: 0.9579 - val_loss: 1.1894 - val_accuracy: 0.8010\n",
      "Epoch 18/20\n",
      "63/63 [==============================] - 1s 11ms/step - loss: 0.1034 - accuracy: 0.9562 - val_loss: 1.2205 - val_accuracy: 0.8030\n",
      "Epoch 19/20\n",
      "63/63 [==============================] - 1s 11ms/step - loss: 0.0992 - accuracy: 0.9565 - val_loss: 1.3468 - val_accuracy: 0.7840\n",
      "Epoch 20/20\n",
      "63/63 [==============================] - 1s 12ms/step - loss: 0.0957 - accuracy: 0.9587 - val_loss: 1.3948 - val_accuracy: 0.7820\n"
     ]
    }
   ],
   "source": [
    "model = models.Sequential()\n",
    "model.add(layers.Dense(64, activation='relu', input_shape=(10000,)))\n",
    "model.add(layers.Dense(128, activation='relu'))\n",
    "model.add(layers.Dense(46, activation='softmax'))\n",
    "\n",
    "model.compile(optimizer='rmsprop',\n",
    "    loss='categorical_crossentropy',\n",
    "    metrics=['accuracy'])\n",
    "\n",
    "history2 = model.fit(partial_x_train,\n",
    "    partial_y_train,\n",
    "    epochs=20,\n",
    "    batch_size=128,\n",
    "    validation_data=(x_val, y_val))"
   ]
  },
  {
   "cell_type": "code",
   "execution_count": 33,
   "metadata": {},
   "outputs": [
    {
     "data": {
      "text/plain": [
       "[0.7379999756813049,\n",
       " 0.7760000228881836,\n",
       " 0.8100000023841858,\n",
       " 0.8130000233650208,\n",
       " 0.7760000228881836,\n",
       " 0.8270000219345093,\n",
       " 0.8220000267028809,\n",
       " 0.8029999732971191,\n",
       " 0.8149999976158142,\n",
       " 0.8040000200271606,\n",
       " 0.8090000152587891,\n",
       " 0.800000011920929,\n",
       " 0.8040000200271606,\n",
       " 0.8019999861717224,\n",
       " 0.7960000038146973,\n",
       " 0.7919999957084656,\n",
       " 0.8009999990463257,\n",
       " 0.8029999732971191,\n",
       " 0.7839999794960022,\n",
       " 0.7820000052452087]"
      ]
     },
     "execution_count": 33,
     "metadata": {},
     "output_type": "execute_result"
    }
   ],
   "source": [
    "history2.history['val_accuracy']"
   ]
  },
  {
   "cell_type": "code",
   "execution_count": null,
   "metadata": {},
   "outputs": [],
   "source": []
  }
 ],
 "metadata": {
  "kernelspec": {
   "display_name": "Python 3",
   "language": "python",
   "name": "python3"
  },
  "language_info": {
   "codemirror_mode": {
    "name": "ipython",
    "version": 3
   },
   "file_extension": ".py",
   "mimetype": "text/x-python",
   "name": "python",
   "nbconvert_exporter": "python",
   "pygments_lexer": "ipython3",
   "version": "3.7.3"
  }
 },
 "nbformat": 4,
 "nbformat_minor": 2
}
